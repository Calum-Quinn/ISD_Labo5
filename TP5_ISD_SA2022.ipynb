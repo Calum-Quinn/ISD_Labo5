{
 "cells": [
  {
   "cell_type": "markdown",
   "id": "226d3990",
   "metadata": {},
   "source": [
    "# Introduction à la Science des données\n",
    "\n",
    "\n",
    "\n",
    "## Travail pratique 05 – Régression linéaire et clustering\n",
    "\n",
    "### Table des matières\n",
    "\n",
    "[Exercice 1: Analyse Exploratoire des Données](#Exercice-1:-Analyse-Exploratoire-des-Données)\n",
    "\n",
    "- [1.1 Récupération des données](#1.1-Récupération-des-données)\n",
    "\n",
    "- [1.2 Nettoyage des données](#1.2-Nettoyage-des-données)\n",
    "\n",
    "- [1.3 Interprétation et analyse des graphiques](#1.3-Interprétation-et-analyse-des-graphiques)\n",
    "\n",
    "[Exercice 2: Régression linéaire simple](#Exercice-2:-Régression-linéaire-simple)\n",
    "\n",
    "[Exercice 3: Régression linéaire multiple](#Exercice-3:-Régression-linéaire-multiple)\n",
    "\n",
    "[Exercice 4: Clustering](#Exercice-4:-Clustering)\n",
    "\n",
    "\n",
    "---\n",
    "\n",
    "**Informations de groupe:**\n",
    "\n",
    "- Groupe: \n",
    "\n",
    "\n",
    "- Prénoms1 Noms1 **A REMPLACER**\n",
    "- Prénoms2 Noms2 **A REMPLACER**\n",
    "- (Prénoms3 Noms3 **A REMPLACER**)\n",
    "\n",
    "\n",
    "---\n",
    "\n",
    "**Professeurs**: Carlos Peña et Stephan Robert\n",
    "\n",
    "**Assistant(s)**: Thibault Schowing, Arthur Babey\n",
    "\n",
    "**Contact**: prenom.nom@heig-vd.ch ou de préférence via Teams \n",
    "\n",
    "**Rendu**:\n",
    "\n",
    "- Date: 15.01.2023, 23h55 (3 (+2) semaines)\n",
    "\n",
    "- Travail par groupe de 2 ou 3. Il est impératif de vous enregistrer dans un groupe sur Cyberlearn. Une fois ceci fait, une seule personne du group a besoin de rendre le TP et le feedback est automatiquement envoyé à chaque membre du groupe. \n",
    "\n",
    "\n",
    "- Une fois complété, rendez directement le notebook nommé correctement comme suit \"**TP5_ISD_SA2023_Nom1_Nom2(_Nom3).ipynb**\" en remplaçant par vos noms de famille (pour ceux avec plusieurs noms de famille, vous pouvez mettre juste le premier et mettre les Prénoms et noms en entier ci-dessus.) Uploadez en suite votre fichier sur Cyberlearn dans la section prévue à cet effet. \n",
    "\n",
    "\n",
    "- Les questions sont généralement indiquées en **gras** ou par une liste d'instructrions et les endroits où répondre sont indiqués par un \"*Réponse:*\" pour les réponses textuelles. \n",
    "\n",
    "\n",
    "- Pour les réponses nécessitant d'écrire du code, les cellules ont déjà été crées et un commentaire indique où/quoi répondre.\n",
    "\n",
    "\n",
    "- Note: Ce TP est noté sur 6 \n",
    "\n",
    "<div class=\"alert alert-block alert-success\">\n",
    "<b>Objectifs </b>\n",
    "</div>\n",
    "\n",
    "- Effectuer une analyse exploratoire des données \n",
    "- À l'aide de l'algorithme vu en cours, réaliser une régression linéaire simple \n",
    "- À l'aide de la librairie scikit-learn, réaliser une régression linéaire multiple\n",
    "- Utiliser K-means clustering\n",
    "- Analyser et expliquer les résultats obtenus\n",
    "\n",
    "<div class=\"alert alert-block alert-info\">\n",
    "<b>Corrections: </b> Ce notebook vous sera renvoyé via Cyberlearn ou  un autre canal. Les informations principales concernant les corrections seront indiquées après chaque section (banière bleue) avec le nombre de points. Il est possible que des remarques concernant le code soient directement ajoutées dans celui-ci.\n",
    "</div>\n",
    "\n",
    "<div class=\"alert alert-block alert-info\">\n",
    "<b>Points: </b> Le TP est noté sur 55 points (les exercices, 5 points pour le rendu, 2 points pour la propreté générale). En cas de retard, les pénalités varient selon la durée du retard, ou jusqu'à la non-correction du TP. \n",
    "</div>\n"
   ]
  },
  {
   "cell_type": "code",
   "execution_count": null,
   "id": "5606649a",
   "metadata": {},
   "outputs": [],
   "source": [
    "# Importation des packages\n",
    "\n",
    "import matplotlib.pyplot as plt\n",
    "import numpy as np\n",
    "import pandas as pd\n",
    "import seaborn as sns\n",
    "import math\n",
    "\n",
    "# Différents moyens de standardiser les données mis à disposition par Scikit-learn\n",
    "from sklearn.preprocessing import MinMaxScaler, StandardScaler, RobustScaler\n",
    "from sklearn.model_selection import train_test_split\n",
    "#from sklearn.model_selection import KFold\n",
    "from sklearn.linear_model import LinearRegression\n",
    "from sklearn.metrics import accuracy_score, confusion_matrix, r2_score"
   ]
  },
  {
   "cell_type": "markdown",
   "id": "ba8f5a9d",
   "metadata": {},
   "source": [
    "## Exercice 1: Analyse Exploratoire des Données\n",
    "\n",
    "### 1.1 Récupération des données\n",
    "\n",
    "Comme vous avez pu en voir au cours des précédents travaux pratiques, une certaine quantité de datasets publics sont régulièrement utilisés comme base d'apprentissage pour la science des données. Dans ce TP nous utiliserons le dataset connu sous le nom de \"California Housing Dataset\" qu'il est possible d'obtenir [ici via scikit-learn](https://inria.github.io/scikit-learn-mooc/python_scripts/datasets_california_housing.html). Scikit-learn fournit une rapide analyse exploratoire qui a été copiée en partie ci-dessous. \n",
    "\n",
    "**Exécutez les cellules ci-dessous en lisant attentivement le code et les commentaires et répondez aux questions qui suivent.**"
   ]
  },
  {
   "cell_type": "code",
   "execution_count": null,
   "id": "442ac9a2",
   "metadata": {},
   "outputs": [],
   "source": [
    "# On importe la fonction fetch_california_housing\n",
    "\n",
    "from sklearn.datasets import fetch_california_housing\n",
    "\n",
    "# Et on l'utilise. \n",
    "# l'option \"as_frame\" permet d'obtenir directement un DataFrame dans le dictionnaire.\n",
    "# Sans cela, l'élément \"frame\" serait absent du dictionnaire ci-dessous.\n",
    "# Les différents éléments du dictionnaire (Data, Target, DESCR, noms de colonnes, etc) sont dès lors directement accessible\n",
    "\n",
    "california_housing = fetch_california_housing(as_frame=True) "
   ]
  },
  {
   "cell_type": "code",
   "execution_count": null,
   "id": "f4817eed",
   "metadata": {},
   "outputs": [],
   "source": [
    "# Observez ce que contient la variable california_housing\n",
    "california_housing"
   ]
  },
  {
   "cell_type": "code",
   "execution_count": null,
   "id": "f02bae79",
   "metadata": {},
   "outputs": [],
   "source": [
    "# Étant donné qu'il s'agit d'un dictionnaire, on peut regarder les clés et leur contenu (affiché ci-dessus)\n",
    "california_housing.keys()"
   ]
  },
  {
   "cell_type": "markdown",
   "id": "07cebc0d",
   "metadata": {},
   "source": [
    "### Question\n",
    "\n",
    "<p style=\"background-color:#AFEEEE;padding:3px\"><font size=\"4\"><b>Q </b></font> Que contiennent les clés <i>'data', 'target', 'frame', 'target_names', 'feature_names', 'DESCR'</i> obtenues ci-dessus ? Donnez une rapide description des différents éléments sous forme de liste à puces. Une ligne par élément suffit.</p>\n",
    "\n",
    "(5 points)\n",
    "\n",
    "\n",
    "\n"
   ]
  },
  {
   "cell_type": "markdown",
   "id": "a010c33b",
   "metadata": {},
   "source": [
    "___\n",
    "*Réponse:*\n",
    "___"
   ]
  },
  {
   "cell_type": "markdown",
   "id": "abb12da4",
   "metadata": {},
   "source": [
    "En utilisant print(), on peut afficher de manière plus lisible l'élément \"DESCR\" du dictionnaire. \n",
    "\n",
    "*(car **print()** va interpréter les caractères spéciaux comme '\\n' -> retour à la ligne)*"
   ]
  },
  {
   "cell_type": "code",
   "execution_count": null,
   "id": "365c223c",
   "metadata": {},
   "outputs": [],
   "source": [
    "print(california_housing[\"DESCR\"])\n",
    "\n",
    "# Aussi accessible en utilisant cette notation: \n",
    "#print(california_housing.DESCR)"
   ]
  },
  {
   "cell_type": "markdown",
   "id": "0b685944",
   "metadata": {},
   "source": [
    "En accédant à l'élément *frame*, on peut commencer à travailler comme d'habitude. \n",
    "\n",
    "Observons rapidement nos données:"
   ]
  },
  {
   "cell_type": "code",
   "execution_count": null,
   "id": "d82ca480",
   "metadata": {},
   "outputs": [],
   "source": [
    "# Les 5 premières observations\n",
    "california_housing.frame.head()"
   ]
  },
  {
   "cell_type": "markdown",
   "id": "82b9e54e",
   "metadata": {},
   "source": [
    "C'est un peu long à écrire \"california_housing.frame\". Affectons ça à notre variable \"df\" habituelle, ou plutôt \"df_raw\" car nous allons encore un peu le modifier (preprocessing) avant d'en avoir une version finale. **Attention, petit rappel: si vous exécutez une autre affectation à une variable \"df\" dans un autre notebook qui tourne avec le même kernel, il faudra réafecter la variable ici. Vous pouvez à tout moment exécuter \"cell > run All\" pour tout réexécuter. Suivant le contenu cela peut prendre du temps par contre !**"
   ]
  },
  {
   "cell_type": "code",
   "execution_count": null,
   "id": "b791ec2a",
   "metadata": {},
   "outputs": [],
   "source": [
    "# Données brutes\n",
    "df_raw = california_housing.frame"
   ]
  },
  {
   "cell_type": "code",
   "execution_count": null,
   "id": "2dc50627",
   "metadata": {},
   "outputs": [],
   "source": [
    "df_raw"
   ]
  },
  {
   "cell_type": "code",
   "execution_count": null,
   "id": "c54f0e31",
   "metadata": {},
   "outputs": [],
   "source": [
    "# Histogrammes des variables\n",
    "df_raw.hist(figsize=(12, 10), bins=30, edgecolor=\"black\")\n",
    "plt.subplots_adjust(hspace=0.7, wspace=0.4)"
   ]
  },
  {
   "cell_type": "code",
   "execution_count": null,
   "id": "9f79bac2",
   "metadata": {
    "scrolled": false
   },
   "outputs": [],
   "source": [
    "# Boxplot des variables\n",
    "\n",
    "variables = df_raw.columns\n",
    "\n",
    "fig, axs = plt.subplots(3, 3, figsize=(20, 20))\n",
    "axs = axs.flatten()\n",
    "for i, col in enumerate(variables):\n",
    "    df_raw.boxplot(col, ax=axs[i])\n",
    "    \n",
    "fig.suptitle('Boxplot of some of the variables', fontsize=16)    \n",
    "fig.tight_layout(rect=[0, 0.03, 1, 0.98])"
   ]
  },
  {
   "cell_type": "markdown",
   "id": "26dd2f74",
   "metadata": {},
   "source": [
    "Détails des features avec valeurs abérrantes"
   ]
  },
  {
   "cell_type": "code",
   "execution_count": null,
   "id": "75bd155f",
   "metadata": {},
   "outputs": [],
   "source": [
    "features_of_interest = [\"AveRooms\", \"AveOccup\", \"Population\"] \n",
    "california_housing.frame[features_of_interest].describe()"
   ]
  },
  {
   "cell_type": "markdown",
   "id": "f3f018bc",
   "metadata": {},
   "source": [
    "### Questions\n",
    "\n",
    "(3 points)\n",
    "\n",
    "<p style=\"background-color:#AFEEEE;padding:3px\"><font size=\"4\"><b>Q </b></font> Observez les graphiques ci-dessus. Que pouvez vous dire sur les valeurs extrêmes des variables \"AveRooms\", \"Population\" et \"AveOccup\" ? Qu'est-ce qu'un \"block group\" ?</p>\n",
    "\n",
    "<p style=\"background-color:#AFEEEE;padding:3px\">Note: Aidez-vous de la description des données obtenue plus haut. Ne décrivez pas simplement les graphiques: donnez une explication. </p>"
   ]
  },
  {
   "cell_type": "markdown",
   "id": "46e85ae5",
   "metadata": {},
   "source": [
    "___\n",
    "*Réponse:*\n",
    "___"
   ]
  },
  {
   "cell_type": "markdown",
   "id": "54dea360",
   "metadata": {},
   "source": [
    "<div class=\"alert alert-block alert-info\">\n",
    "<b>Corrections Ex 1.1: </b> Points obtenus: /8\n",
    "</div>\n",
    "\n",
    "Remarques: "
   ]
  },
  {
   "cell_type": "markdown",
   "id": "d0e6df9d",
   "metadata": {},
   "source": [
    "### 1.2 Nettoyage des données\n",
    "\n",
    "Pour avoir un meilleur aperçu des données, nous allons supprimer quelques observations extrêmes. Pour prédire le prix d'une maison à partir de données régionales, nous pouvons exclure les éléments sortants de l'ordinaire. Si vous le souhaitez, vous pouvez réafficher différents graphiques pour voir vos nouvelles données."
   ]
  },
  {
   "cell_type": "code",
   "execution_count": null,
   "id": "e0cb58d1",
   "metadata": {},
   "outputs": [],
   "source": [
    "df = df_raw[(df_raw[\"AveRooms\"] < 10) & (df_raw[\"Population\"] < 20000)]\n",
    "df"
   ]
  },
  {
   "cell_type": "markdown",
   "id": "ca65b340",
   "metadata": {},
   "source": [
    "<p style=\"background-color:#AFEEEE;padding:3px\"><font size=\"4\"><b>Q </b></font> Combien de lignes ont été supprimées ? </p>\n",
    "\n",
    "\n",
    "(2 point)"
   ]
  },
  {
   "cell_type": "markdown",
   "id": "dfa7ae54",
   "metadata": {},
   "source": [
    "___\n",
    "*Réponse:*\n",
    "___"
   ]
  },
  {
   "cell_type": "markdown",
   "id": "8e3eaeda",
   "metadata": {},
   "source": [
    "### 1.3 Ho non ! Le code ci-dessous affiche un magnifique graphique mais on ne comprends rien au code !\n",
    "\n",
    "\n",
    "\n",
    "Complétez les commentaires \"# -\" du code ci-dessous pour que votre assistant puisse enfin comprendre le code qu'il a copié sur [scikit-learn](https://inria.github.io/scikit-learn-mooc/python_scripts/datasets_california_housing.html).  Aidez-vous de la documentation si nécessaire mais gardez les descriptions simples. Quelques mots suffisent, pas besoin de grande phrases.\n",
    "\n",
    "(10 points)"
   ]
  },
  {
   "cell_type": "code",
   "execution_count": null,
   "id": "5b399d55",
   "metadata": {},
   "outputs": [],
   "source": [
    "# -\n",
    "rng = np.random.RandomState(0)\n",
    "\n",
    "# -\n",
    "indices = rng.choice(np.arange(df.shape[0]), \n",
    "                     size=10000,\n",
    "                     replace=False)"
   ]
  },
  {
   "cell_type": "code",
   "execution_count": null,
   "id": "1c7ffe92",
   "metadata": {},
   "outputs": [],
   "source": [
    "# -\n",
    "sns.scatterplot(\n",
    "    data=df.iloc[indices],                         # -\n",
    "    x=\"Longitude\", y=\"Latitude\",                   # Colonnes de \"data\" utilisées pour les axes x et y\n",
    "    size=\"MedHouseVal\",                            # -\n",
    "    hue=\"MedHouseVal\",                             # -\n",
    "    palette=\"viridis\",                             # -\n",
    "    alpha=0.5)                                     # -\n",
    "\n",
    "# -\n",
    "plt.legend(title=\"MedHouseVal\", bbox_to_anchor=(1.05, 1),\n",
    "           loc=\"upper left\")\n",
    "_ = plt.title(\"Median house value depending of\\n their spatial location\")"
   ]
  },
  {
   "cell_type": "markdown",
   "id": "f8297e79",
   "metadata": {},
   "source": [
    "<p style=\"background-color:#AFEEEE;padding:3px\"><font size=\"4\"><b>Q </b></font>Si vous n'êtes pas familier avec la Californie, allez jeter un coup d'oeil sur Google maps. Que pouvez-vous observer concernant le prix median des maisons ?</p>\n",
    "\n",
    "(2 points)"
   ]
  },
  {
   "cell_type": "markdown",
   "id": "6c1b9576",
   "metadata": {},
   "source": [
    "___\n",
    "*Réponse:*\n",
    "___"
   ]
  },
  {
   "cell_type": "markdown",
   "id": "85dfdb33",
   "metadata": {},
   "source": [
    "On crée maintenant un joli pairplot à l'aide de Seaborn:"
   ]
  },
  {
   "cell_type": "code",
   "execution_count": null,
   "id": "53e58cb3",
   "metadata": {},
   "outputs": [],
   "source": [
    "# Inutile de garder ces deux colonnes\n",
    "columns_drop = [\"Longitude\", \"Latitude\"]\n",
    "subset = df.iloc[indices].drop(columns=columns_drop)\n",
    "\n",
    "# Ignorez ce petit passage un peu complexe, c'est pour avoir 6 couleurs pour une variable continue. \n",
    "# Quantize the target and keep the midpoint for each interval\n",
    "subset[\"MedHouseVal\"] = pd.qcut(subset[\"MedHouseVal\"], 6, retbins=False)\n",
    "subset[\"MedHouseVal\"] = subset[\"MedHouseVal\"].apply(lambda x: x.mid)\n",
    "_ = sns.pairplot(data=subset, hue=\"MedHouseVal\", palette=\"viridis\")"
   ]
  },
  {
   "cell_type": "markdown",
   "id": "98162eb5",
   "metadata": {},
   "source": [
    "### 1.4 Interprétation et analyse des graphiques\n",
    "\n",
    "Dans la partie suivante, nous essayerons de prédire la variable MedHouseVal en fonction des autres variables, une à une. Observez les différents graphiques réalisés dans cette analyse exploratoire. \n",
    "\n",
    "(6 points)\n",
    "\n",
    "<p style=\"background-color:#AFEEEE;padding:3px\"><font size=\"4\"><b>Q </b></font>Quelles variables pourraient être, à elles seules, de bons prédicteurs ? Ou de mauvais ? Ajouteriez-vous un ou plusieurs autre graphiques pour visualiser les données ? Justifiez vos réponses.</p>"
   ]
  },
  {
   "cell_type": "markdown",
   "id": "53edb61f",
   "metadata": {},
   "source": [
    "___\n",
    "*Réponse:*\n",
    "___"
   ]
  },
  {
   "cell_type": "markdown",
   "id": "991b045a",
   "metadata": {},
   "source": [
    "<div class=\"alert alert-block alert-info\">\n",
    "<b>Corrections Ex 1.2-1.3: </b> Points obtenus: /20\n",
    "</div>\n",
    "\n",
    "Remarques: "
   ]
  },
  {
   "cell_type": "markdown",
   "id": "3ad6cdc0",
   "metadata": {},
   "source": [
    "## Exercice 2: Régression linéaire simple\n",
    "\n",
    "<div class=\"alert alert-block alert-warning\">\n",
    "<b>Attention: </b> la régression linéaire dans cet exercice peut prendre environ 5 minutes avec les hyper-paramètres actuels. \n",
    "</div>\n",
    "\n",
    "Maintenant que vous êtes familiarisés avec la base de données, vous allez utiliser l'algorithme de régression linéaire simple vu en classe. \n",
    "\n",
    "Si vous voulez revoir comment fonctionne la régression linéaire d'une manière plus vidéastique, je vous conseille [cette vidéo de StatQuest](https://www.youtube.com/watch?v=nk2CQITm_eo) qui revoit étape par étape le fonctionnement de la régression simple et de l'ajustement d'une ligne aux données, de $ R^2 $ et de la régression multiple (en Anglais simple et clair mais quand même en 25 minutes, les premières 10 minutes suffisent). [Cette vidéo](https://www.youtube.com/watch?v=PaFPbb66DxQ) vous résume en moins de temps le concept qui va être utilisé dans le code ci-dessous: comment ajuster une ligne aux données. \n",
    "\n",
    "\n",
    "\n",
    "\n"
   ]
  },
  {
   "cell_type": "markdown",
   "id": "a5cbdf97",
   "metadata": {},
   "source": [
    "### 2.1 Complétez les commentaires\n",
    "\n",
    "(6 points)\n",
    "\n",
    "**Les troix méthodes ci-dessous: \"*compute_MSE*\", \"*step_gradient*\" et \"*gradient_descent*\" n'ont pas de commentaire d'entête.** Complétez les en indiquant ce que fait la fonction et pourquoi, ce que l'on a comme paramètres et ce qu'elle retourne. Vous pouvez vous inspirer des commentaires des fonctions d'après pour le format. \n",
    "\n",
    "___\n",
    "\n",
    "*Répondre directement dans le code ci-après, entre les guillemets:*"
   ]
  },
  {
   "cell_type": "code",
   "execution_count": null,
   "id": "9b216221",
   "metadata": {},
   "outputs": [],
   "source": [
    "def compute_MSE(b,m,data):\n",
    "    \"\"\"\n",
    "    \n",
    "    \"\"\"\n",
    "    totalError = 0\n",
    "    # Mean squared error formula\n",
    "    for i in range (0, len(data)):\n",
    "        x = data[i, 0] # variable indépendante\n",
    "        y = data[i, 1] # variable dépendante\n",
    "        totalError += (y-(m*x + b)) ** 2 # somme des différences au carré\n",
    "    return totalError/ float(len(data)) # on divise par N\n",
    "\n",
    "def step_gradient(b_current, m_current, data, learning_rate):\n",
    "    \"\"\"\n",
    "    \n",
    "    \"\"\"\n",
    "    b_gradient = 0\n",
    "    m_gradient = 0\n",
    "    N = float(len(data))\n",
    "    for i in range(0, len(data)):\n",
    "        x = data[i, 0]\n",
    "        y = data[i, 1]\n",
    "        b_gradient += -(1/N) * (y - (m_current * x + b_current))\n",
    "        m_gradient += -(1/N) * x * (y - (m_current * x + b_current))\n",
    "        \n",
    "    new_b = b_current - (learning_rate * b_gradient)\n",
    "    new_m = m_current - (learning_rate * m_gradient)\n",
    "    return [new_b, new_m]\n",
    "\n",
    "def gradient_descent(data, starting_b, starting_m, learning_rate, num_epochs):\n",
    "    \"\"\"\n",
    "    \n",
    "    \"\"\"\n",
    "    b = starting_b\n",
    "    m = starting_m\n",
    "    for i in range(num_epochs):\n",
    "        b,m = step_gradient(b, m, np.array(data), learning_rate)\n",
    "        #print(\"After {0} epochs b = {1}, m = {2}, error = {3}\".format(i, b, m, compute_MSE(b, m, data)))\n",
    "    return [b,m]\n",
    "\n",
    "\n",
    "\n",
    "\n"
   ]
  },
  {
   "cell_type": "markdown",
   "id": "5c36f123",
   "metadata": {},
   "source": [
    "### 2.2 Pearson\n",
    "\n",
    "(5 points)\n",
    "\n",
    "Pour calculer le score $R^2$ on peut utiliser la fonction *r2_score()* fourni par scikit-learn ou l'écrire nous-même. Pour la beauté du geste, et quelques points bien sûr, **complétez la fonction ci-dessous pour calculer le coefficient $R^2$ (aussi appelé coefficient de détermination de Pearson, à ne pas confondre avec le coefficient de corrélation linéaire de Bravais-Pearson, souvent appelé Person Correlation en Anglais, que nous appelons simplement \"corrélation\" ici. ).** \n",
    "\n",
    "Pour être certain que votre code fonctionne, vous pouvez exécuter la cellule de TEST qui comparera les résultats de votre méthode avec ceux de la méthode préfaite de sklearn. \n",
    "\n"
   ]
  },
  {
   "cell_type": "code",
   "execution_count": null,
   "id": "aeff07aa",
   "metadata": {},
   "outputs": [],
   "source": [
    "def pearson(y, y_pred):\n",
    "    \"\"\"\n",
    "    \n",
    "    \"\"\"\n",
    "    # - Complétez le code et le commentaire d'entête pour calculer le coefficient de Pearson ici. - \n",
    "    # - (n'oubliez pas de changer la valeur de retour !)\n",
    "    \n",
    "    \n",
    "    \n",
    "    return 0"
   ]
  },
  {
   "cell_type": "code",
   "execution_count": null,
   "id": "f2d23a98",
   "metadata": {},
   "outputs": [],
   "source": [
    "# SOLUTION\n",
    "def pearson(y, y_pred):\n",
    "    y_mean = np.mean(y)\n",
    "    sum_n = 0\n",
    "    sum_d = 0\n",
    "    for i in range(len(y)):\n",
    "        sum_n += (y[i] - y_pred[i]) ** 2\n",
    "        sum_d += (y[i] - y_mean) ** 2\n",
    "    return 1 - sum_n / sum_d"
   ]
  },
  {
   "cell_type": "markdown",
   "id": "53a22c7e",
   "metadata": {},
   "source": [
    "**Test**\n",
    "\n",
    "Comparaison entre votre fonction et celle de scikit-learn. "
   ]
  },
  {
   "cell_type": "code",
   "execution_count": null,
   "id": "9140092c",
   "metadata": {},
   "outputs": [],
   "source": [
    "# TEST - Affiche un message en cas de réussite / échec de la méthode \"pearson()\"\n",
    "import random\n",
    "random.seed(0)\n",
    "\n",
    "y = np.random.randint(20, size=10)\n",
    "y_pred = np.random.randint(20, size=10)\n",
    "\n",
    "if (round(pearson(y, y_pred), 3) == round(r2_score(y, y_pred), 3)): \n",
    "    print(f\"RÉUSSITE - La fonction pearson() donne le résultat attendu.\")\n",
    "else:\n",
    "    print(f\"ÉCHEC - Il semble qu'il y ait une erreur et que votre fonction ne donne pas les bons résultats.\")"
   ]
  },
  {
   "cell_type": "markdown",
   "id": "fc2e3f0b",
   "metadata": {},
   "source": [
    "<div class=\"alert alert-block alert-info\">\n",
    "<b>Corrections 2.1 - 2.2: </b> Points obtenus: /11\n",
    "</div>\n",
    "\n",
    "Remarques: "
   ]
  },
  {
   "cell_type": "markdown",
   "id": "cf3be837",
   "metadata": {},
   "source": [
    "### 2.3 Exécution du code vu en cours\n",
    "\n",
    "Le code ci-dessous est simplement un joli packaging  du code vu en cours. "
   ]
  },
  {
   "cell_type": "code",
   "execution_count": null,
   "id": "9ead3e86",
   "metadata": {},
   "outputs": [],
   "source": [
    "\n",
    "\n",
    "def score_simple_linear_regression(df: pd.DataFrame, var: str, lr: float, n_epochs: int, label: str = 'MedHouseVal', n_repetitions: int = 100) -> tuple:\n",
    "    \"\"\"\n",
    "    Train a model `n_repetitions` time and return the average score.\n",
    "    \n",
    "    Parameters\n",
    "    ----------\n",
    "    df : pd.DataFrame\n",
    "        DataFrame with the California dataset.\n",
    "    var : str\n",
    "        Variable to use as feature.\n",
    "    label : str, default 'MedHouseVal'\n",
    "        Label to use.\n",
    "    n_repetitions : int, default = 100\n",
    "        Number of repetitions for the training. \n",
    "        \n",
    "    Returns\n",
    "    -------\n",
    "    Tuple\n",
    "        (Mean score, list of labels, list of predictions, best m, best b)\n",
    "    \"\"\"\n",
    "    scores = []\n",
    "    labels = []\n",
    "    predictions = []\n",
    "    \n",
    "    data = df[[var, label]].values\n",
    "    \n",
    "    ms = []\n",
    "    bs = []\n",
    "    \n",
    "    for _ in range(n_repetitions):\n",
    "        train, test = train_test_split(data, test_size=0.2)\n",
    "        # Initialize m and b.\n",
    "        initial_b = np.random.rand(1) # intercept\n",
    "        initial_m = np.random.rand(1) # pente\n",
    "        \n",
    "        # Step 4: gradient descent\n",
    "        [b, m] = gradient_descent(train, initial_b, initial_m, lr, n_epochs)\n",
    "        preds = test[:, 0] * m + b\n",
    "        lbls = [test[i, 1] for i in range(len(test))]\n",
    "        ms.append(m)\n",
    "        bs.append(b)\n",
    "        \n",
    "        # Inversez le commentaire ci-dessous pour utiliser la méthode de sklearn.\n",
    "        #scores.append(r2_score(lbls, preds))\n",
    "        scores.append(pearson(lbls, preds))\n",
    "        \n",
    "        labels += lbls\n",
    "        predictions += list(preds)\n",
    "    \n",
    "    best_idx = scores.index(max(scores))\n",
    "    \n",
    "    return np.mean(scores), labels, predictions, ms[best_idx], bs[best_idx]\n",
    "\n",
    "def plot_regression_line(data: np.ndarray, x_name: str, y_name: str, m: float, b: float, title: str) -> plt.axes:\n",
    "    \"\"\"\n",
    "    Plot the regression line usimg the given `m` and `b`.\n",
    "    \n",
    "    Parameters\n",
    "    ----------\n",
    "    data : np.ndarray\n",
    "        Data with the variable and the label to plot. \n",
    "        Label must be in the last column.\n",
    "    x_name : str\n",
    "        Name of the column for x.\n",
    "    y_name : str\n",
    "        Name of the column for y.\n",
    "    m : float\n",
    "        m value to use for the predictions.\n",
    "    b : float\n",
    "        b value to use for the predictions.\n",
    "    title : str\n",
    "        Title of the plot.\n",
    "        \n",
    "    Returns\n",
    "    -------\n",
    "    plt.axes\n",
    "        Matplotlib ax. \n",
    "    \"\"\"\n",
    "    fig, ax = plt.subplots(figsize=(15, 9))\n",
    "    data.plot.scatter(x=x_name, y=y_name, ax=ax, title=title)\n",
    "    y_pred = m * data[x_name] + b\n",
    "    ax.plot(data[x_name].values, y_pred, 'r')\n",
    "    ax.text(0.025, 0.925,\n",
    "            f'$R^2={np.round(r2_score(data[y_name].values, y_pred), 3)}$',\n",
    "            fontsize=12, transform=ax.transAxes)\n",
    "    return ax"
   ]
  },
  {
   "cell_type": "markdown",
   "id": "e9a57830",
   "metadata": {},
   "source": [
    "Si vous n'avez pas réussi à écrire une fonction **pearson()**, (de)commentez les lignes indiquées dans la fonction \"*score_simple_linear_regression()*\" ci-dessus afin d'utiliser la méthode de sklearn. \n",
    "\n",
    "\n",
    "Comme vu dans le labo précédent, il vaut souvent mieux normaliser/standardiser les données (moyenne nulle et écart-type à 1). Ça n'est pas toujours le cas et ça peut être discutable. Ici nous allons normaliser les variables indépendantes que nous voulons utiliser pour la régression linéaire simple. \n",
    "\n",
    "*Tip: n'oubliez pas que vous pouvez développer ou réduire la sortie de l'exécution d'une cellule en cliquant sur la gauche de la cellule. Comme la sortie de la cellule suivante est relativement longue, la réduire pour ne pas scroller pendant trop longtemps peut être utile!*\n"
   ]
  },
  {
   "cell_type": "code",
   "execution_count": null,
   "id": "33b05140",
   "metadata": {
    "scrolled": true
   },
   "outputs": [],
   "source": [
    "import time\n",
    "random.seed(0)\n",
    "\n",
    "# Mesure du temps au début\n",
    "start = time.time()\n",
    "\n",
    "\n",
    "# On va prendre un subset du dataframe, avec sa taille on en aurait pour 1h de calcul à chaque fois.\n",
    "indices = rng.choice(np.arange(df.shape[0]), \n",
    "                     size=500,\n",
    "                     replace=False)\n",
    "subset_df = df.iloc[indices]\n",
    "\n",
    "# Standardisation\n",
    "\n",
    "# Copie de l'échantillon et normalisation des colonnes choisies (toutes sauf MedHouseVal)\n",
    "df_normalized = subset_df.copy()\n",
    "cols = subset_df.columns[df.columns != 'MedHouseVal']\n",
    "scaler = StandardScaler()\n",
    "\n",
    "df_normalized[cols] = scaler.fit_transform(df_normalized[cols])\n",
    "\n",
    "variables = ['MedInc',\n",
    "             'AveRooms',\n",
    "             'Population']\n",
    "\n",
    "\n",
    "print(f\"Variables testées pour la régression linéaire simple: {variables}\") \n",
    "label = 'MedHouseVal'\n",
    "\n",
    "learning_rates = [0.5, 0.1, 0.01, 0.001]\n",
    "n_epochs = 30\n",
    "scores = {}\n",
    "\n",
    "for var in variables:\n",
    "    print(f\"Variable {var}\")\n",
    "    scores[var] = {}\n",
    "    for lr in learning_rates:\n",
    "        print(f\"Learning rate: {lr}\")\n",
    "        score, _, _, m, b = score_simple_linear_regression(df_normalized, var, lr, n_epochs, label=label)\n",
    "        scores[var][lr] = score\n",
    "        plot_regression_line(df_normalized, var, 'MedHouseVal', m, b, f'Plot of regression line with {var=}, {lr=}')\n",
    "        plt.show()\n",
    "\n",
    "end = time.time()\n",
    "print(f\"Exécution: {end - start} secondes\")"
   ]
  },
  {
   "cell_type": "markdown",
   "id": "bf61733a",
   "metadata": {},
   "source": [
    "### 2.4 Question\n",
    "\n",
    "(5 points)\n",
    "\n",
    "<p style=\"background-color:#AFEEEE;padding:3px\"><font size=\"4\"><b>Q </b></font>  Quel est le meilleur score que vous obtenez et que signifie-t-il (qu'est-ce que $R^2$) ?</p>\n",
    "\n",
    "\n"
   ]
  },
  {
   "cell_type": "markdown",
   "id": "75cc9a83",
   "metadata": {},
   "source": [
    "*Réponse:*"
   ]
  },
  {
   "cell_type": "markdown",
   "id": "5d679e2c",
   "metadata": {},
   "source": [
    "<p style=\"background-color:#AFEEEE;padding:3px\"><font size=\"4\"><b>Q </b></font>  Quels sont les risques en choisissant un learning rate trop petit ou trop grand ?</p>"
   ]
  },
  {
   "cell_type": "markdown",
   "id": "cd6de401",
   "metadata": {},
   "source": [
    "*Réponse:*\n",
    "\n"
   ]
  },
  {
   "cell_type": "markdown",
   "id": "ef9ce10a",
   "metadata": {},
   "source": [
    "\n",
    "___"
   ]
  },
  {
   "cell_type": "markdown",
   "id": "97fbbfc5",
   "metadata": {},
   "source": [
    "<div class=\"alert alert-block alert-info\">\n",
    "<b>Corrections 2.4: </b> Points obtenus: /5\n",
    "</div>\n",
    "\n",
    "Remarques: "
   ]
  },
  {
   "cell_type": "markdown",
   "id": "91027254",
   "metadata": {},
   "source": [
    "___\n",
    "___\n",
    "\n",
    "## Exercice 3: Régression linéaire multiple\n",
    "\n",
    "\n",
    "\n",
    "Lorsqu'on utilise plus d'une variable pour la régression, il est important d'avoir une idée de la [corrélation](https://en.wikipedia.org/wiki/Correlation) entre lesdites variables. Ci-dessous, on affiche la matrice de corrélation qui montre pour chaque variable, à quel point elle est corrélée avec les autres. On veut éviter de prendre deux variables corrélées entre elles car cela peut poser des problèmes (sujet pas abordé ici). "
   ]
  },
  {
   "cell_type": "code",
   "execution_count": null,
   "id": "6871873d",
   "metadata": {},
   "outputs": [],
   "source": [
    "# Heatmap de la matrice de corrélation.\n",
    "\n",
    "# Masque pour la partie supérieure de la matrice, qui est symétrique. \n",
    "mask = np.triu(np.ones_like(df.corr(), dtype=bool))\n",
    "\n",
    "# Figure et plot\n",
    "fig, ax = plt.subplots(figsize=(15,12)) \n",
    "dataplot = sns.heatmap(df.corr(), mask=mask, cmap=\"YlGnBu\", annot=True)\n",
    "plt.yticks(rotation=45) \n",
    "plt.show()"
   ]
  },
  {
   "cell_type": "markdown",
   "id": "c0894c41",
   "metadata": {},
   "source": [
    "### 3.1 Question\n",
    "\n",
    "(3 points)\n",
    "\n",
    "<p style=\"background-color:#AFEEEE;padding:3px\"><font size=\"4\"><b>Q </b></font> Quelles variables sont fortement ($ |corr| > 0.2$) corrélées entre elles ? Est-ce que ces corrélations ont toutes un sens ? Développez.</p>\n",
    "\n",
    "___\n",
    "\n"
   ]
  },
  {
   "cell_type": "markdown",
   "id": "deeef372",
   "metadata": {},
   "source": [
    "*Réponse:*\n",
    "\n"
   ]
  },
  {
   "cell_type": "markdown",
   "id": "5b7e8c31",
   "metadata": {},
   "source": [
    "___"
   ]
  },
  {
   "cell_type": "markdown",
   "id": "21433280",
   "metadata": {},
   "source": [
    "### 3.2 Régression\n",
    "\n",
    "Exécutez les cellules ci-dessous.\n",
    "\n"
   ]
  },
  {
   "cell_type": "code",
   "execution_count": null,
   "id": "ff657fba",
   "metadata": {},
   "outputs": [],
   "source": [
    "# Version sklearn\n",
    "\n",
    "def score_linear_regression(df: pd.DataFrame, *var: str, label: str = 'MedHouseVal', n_repetitions: int = 100):\n",
    "    \"\"\"\n",
    "    Train a model `n_repetitions` time and return the average score.\n",
    "    \n",
    "    Parameters\n",
    "    ----------\n",
    "    df : pd.DataFrame\n",
    "        DataFrame with the boston dataset.\n",
    "    var : Tuple of str\n",
    "        Tuple with the variables to use as feature.\n",
    "    label : str, default 'MEDV'\n",
    "        Label to use.\n",
    "    n_repetitions : int, default = 100\n",
    "        Number of repetitions for the training. \n",
    "    \"\"\"\n",
    "    scores = []\n",
    "    labels = []\n",
    "    predictions = []\n",
    "    \n",
    "    for _ in range(n_repetitions):\n",
    "        regressor = LinearRegression()\n",
    "        X_train, X_test, y_train, y_test = train_test_split(df[list(var)], df[label], test_size=0.2)\n",
    "        regressor.fit(X_train, y_train)\n",
    "        labels.append(y_test)\n",
    "        predictions.append(regressor.predict(X_test))\n",
    "        scores.append(regressor.score(X_test, y_test))\n",
    "    return np.mean(scores), labels, predictions"
   ]
  },
  {
   "cell_type": "markdown",
   "id": "0bd57598",
   "metadata": {},
   "source": [
    "On choisit ensuite les groupes de variables non-corrélées entre elles que nous allons tester.\n"
   ]
  },
  {
   "cell_type": "code",
   "execution_count": null,
   "id": "a4240c25",
   "metadata": {},
   "outputs": [],
   "source": [
    "\n",
    "combos = [['Latitude', 'Longitude'], \n",
    "          ['AveRooms', 'Population', 'MedInc'],\n",
    "          ['AveRooms', 'Population'], \n",
    "          ['AveRooms', 'MedInc'], \n",
    "          ['Population', 'MedInc']]\n",
    "\n",
    "label = 'MedHouseVal'\n",
    "\n"
   ]
  },
  {
   "cell_type": "markdown",
   "id": "f0068f3f",
   "metadata": {},
   "source": [
    "Puis nous réalisons la régression linéaire multiple avec chaque groupe en utilisant notre fonction créée ci-dessus. "
   ]
  },
  {
   "cell_type": "code",
   "execution_count": null,
   "id": "558d05f8",
   "metadata": {},
   "outputs": [],
   "source": [
    "for variables in combos:\n",
    "    print(f'Model using {variables}')\n",
    "    score, y_true, y_pred = score_linear_regression(df_normalized, *variables, label=label)\n",
    "    print(f'Score={score}')\n",
    "   "
   ]
  },
  {
   "cell_type": "markdown",
   "id": "f4b48244",
   "metadata": {},
   "source": [
    "### Questions\n",
    "\n",
    "(2 points)\n",
    "\n",
    "<p style=\"background-color:#AFEEEE;padding:3px\"><font size=\"4\"><b>Q </b></font>Y a-t-il une différence de temps en comparaison avec les fonctions pour la régression linéaire simple que nous avons fait nous-même ? Commentez brièvement. <i>Vous pouvez considérer que la génération de graphiques dans nos fonctions ne prend pas de temps.</i></p>\n",
    "\n"
   ]
  },
  {
   "cell_type": "markdown",
   "id": "31cfe16f",
   "metadata": {},
   "source": [
    "*Réponse:*"
   ]
  },
  {
   "cell_type": "markdown",
   "id": "4289dbf7",
   "metadata": {},
   "source": [
    "___\n",
    "\n",
    "<p style=\"background-color:#AFEEEE;padding:3px\"><font size=\"4\"><b>Q </b></font>Quel groupe de variables permet de prédire au mieux la variable dépendante ? Quels résultats obtenez-vous ?</p>"
   ]
  },
  {
   "cell_type": "markdown",
   "id": "a969d6f7",
   "metadata": {},
   "source": [
    "*Réponse:*\n",
    "\n"
   ]
  },
  {
   "cell_type": "markdown",
   "id": "725f26d2",
   "metadata": {},
   "source": [
    "___"
   ]
  },
  {
   "cell_type": "markdown",
   "id": "4b27aef5",
   "metadata": {},
   "source": [
    "<div class=\"alert alert-block alert-info\">\n",
    "<b>Corrections 3: </b> Points obtenus: /5\n",
    "</div>\n",
    "\n",
    "Remarques: "
   ]
  },
  {
   "cell_type": "markdown",
   "id": "1814fe4a",
   "metadata": {},
   "source": [
    "## Exercice 4: Clustering\n",
    "\n",
    "(25 points)\n",
    "\n",
    "Dans cette partie vous effectuerez ce que l'on appelle une Market Basket Analysis. Un centre commercial possède quelques données sur ses clients que vous retrouvez dans le dataset joint à ce labo ou [ici](https://www.kaggle.com/datasets/vjchoudhary7/customer-segmentation-tutorial-in-python). Ce dataset est un exemple très connu et vous trouverez la grande partie du code dont vous aurez besoin à partir de la page du dataset, sur [Kaggle](https://www.kaggle.com/code/kushal1996/customer-segmentation-k-means-analysis). Pour ce TP nous allons partir du principe que vous prendrez votre code d'ailleurs donc vous n'avez **pas besoin de citer vos sources mais pour chaque partie vous devrez commenter le code que vous copiez (5 points) en y ajoutant quelques lignes de commentaires décrivant le but principal du code et les opérations majeures (pas besoin de décrire chaque ligne, vos commentaires doivent être utiles).**\n",
    "\n",
    "\n",
    "---"
   ]
  },
  {
   "cell_type": "markdown",
   "id": "f61aedb3",
   "metadata": {},
   "source": [
    "### Partie 4.1: Analyse Exploratoire des Données\n",
    "\n",
    "(10 points)"
   ]
  },
  {
   "cell_type": "markdown",
   "id": "1d0889e0",
   "metadata": {},
   "source": [
    "Faites une analyse exploratoire rapide des données. Vous pouvez ajouter des cellules si nécessaire. Une fois ceci fait, complétez les informations demandées ci-après. \n",
    "\n",
    "Faites aussi: \n",
    "\n",
    "- un scatterplot de chaque variable par rapport aux autres\n",
    "- calculez le pourcentage homme-femme (affichez le avec un print)"
   ]
  },
  {
   "cell_type": "code",
   "execution_count": null,
   "id": "e2328c69",
   "metadata": {},
   "outputs": [],
   "source": [
    "# Lecture des données\n",
    "\n",
    "df4 = pd.read_csv(r'./Mall_Customers.csv')\n",
    "df4.head()"
   ]
  },
  {
   "cell_type": "code",
   "execution_count": null,
   "id": "17555623",
   "metadata": {},
   "outputs": [],
   "source": [
    "# Analyse exploratoire..\n",
    "\n"
   ]
  },
  {
   "cell_type": "code",
   "execution_count": null,
   "id": "1c1a6a3e",
   "metadata": {},
   "outputs": [],
   "source": [
    "# Analyse exploratoire..\n",
    "\n"
   ]
  },
  {
   "cell_type": "code",
   "execution_count": null,
   "id": "a17a7095",
   "metadata": {},
   "outputs": [],
   "source": [
    "# Scatterplot (pairplot)\n",
    "\n",
    "\n"
   ]
  },
  {
   "cell_type": "code",
   "execution_count": null,
   "id": "3eebdbfd",
   "metadata": {},
   "outputs": [],
   "source": [
    "# Calcul proportion H-F\n",
    "\n",
    "\n"
   ]
  },
  {
   "cell_type": "markdown",
   "id": "77fc42f4",
   "metadata": {},
   "source": [
    "<p style=\"background-color:#AFEEEE;padding:3px\"><font size=\"4\"><b>Q </b></font>Analyse exploratoire des données. Complétez les lignes avec les informations obtenues. Ne changez pas la disposition des informations.</p>\n",
    "\n",
    "*Réponse:*\n",
    "\n",
    " \n",
    "\n",
    "- Revenu moyen des clients: \n",
    "- Revenu médian des clients: \n",
    "- Revenu minimum: \n",
    "- Revenu maximum: \n",
    "- Nombre et type de variables: \n",
    "- Nombre d'observations: \n",
    "\n",
    "Détails : \n",
    "- Le revenu annuel est en ...(unité)\n",
    "- Le spending score est ...(définition)\n",
    "\n"
   ]
  },
  {
   "cell_type": "markdown",
   "id": "b2da2ee9",
   "metadata": {},
   "source": [
    "---"
   ]
  },
  {
   "cell_type": "markdown",
   "id": "155b932f",
   "metadata": {},
   "source": [
    "### Partie 4.2: Clustering\n",
    "(10 points)\n",
    "\n",
    "\n",
    "Maintenant que l’on connait bien les données, nous allons essayer de définir des groupes de clients afin de pouvoir les cibler avec une campagne de publicités agressives pour les forcer à acheter plus de choses dont ils n’ont pas besoin comme par exemple le tout dernier éplucheur sécurisé permettant de peler ses légumes sans se blesser, et ce pour seulement 8.99$ HT ! Pour cela, nous allons utiliser l'algorithme k-means en testant plusieurs k et ceci pour deux groupes de variables. \n",
    "\n",
    "\n"
   ]
  },
  {
   "cell_type": "markdown",
   "id": "16060a93",
   "metadata": {},
   "source": [
    "Trouvez le bon nombre de clusters pour les groupes de variables suivants, en vous servant de la méthode du coude. \n",
    "\n",
    "- Spending Score VS Age\n",
    "- Dépense VS revenu annuel \n",
    "- Revenu, Spending Score et Age \n",
    "\n",
    "\n",
    "Vous pouvez trouver le code et des explications [ici](https://www.kaggle.com/code/kushal1996/customer-segmentation-k-means-analysis), vous serez donc principalement notés sur le bon usage et la bonne interprétation (**mise en page y compris**) de ce code et de ses résultats. \n",
    "\n",
    "Ajoutez les cellules nécessaire pour le code. **Faites un résumé et une analyse des résultats dans la cellule ci-après.** Pour cette analyse, rendez un résultat complet mais concis en donnant les informations et conclusions importantes. Vous ne devez ni révolutionner le marketing ni écrire un roman sur l'histoire de k-means au travers des siècles. \n",
    "\n"
   ]
  },
  {
   "cell_type": "code",
   "execution_count": null,
   "id": "d749d520",
   "metadata": {},
   "outputs": [],
   "source": []
  },
  {
   "cell_type": "code",
   "execution_count": null,
   "id": "34397b7c",
   "metadata": {},
   "outputs": [],
   "source": []
  },
  {
   "cell_type": "code",
   "execution_count": null,
   "id": "eaf844f8",
   "metadata": {},
   "outputs": [],
   "source": []
  },
  {
   "cell_type": "markdown",
   "id": "d9181c95",
   "metadata": {},
   "source": [
    "<p style=\"background-color:#AFEEEE;padding:3px\"><font size=\"4\"><b>R </b></font>Résumé et interprétation des résultats.</p>\n",
    "\n",
    "*Réponse:*\n",
    "\n",
    "\n"
   ]
  },
  {
   "cell_type": "markdown",
   "id": "b6d6feab",
   "metadata": {},
   "source": [
    "---"
   ]
  },
  {
   "cell_type": "markdown",
   "id": "3507d97d",
   "metadata": {},
   "source": [
    "<div class=\"alert alert-block alert-info\">\n",
    "<b>Corrections 4: </b> Points obtenus: /25\n",
    "</div>\n",
    "\n",
    "Remarques: \n"
   ]
  },
  {
   "cell_type": "markdown",
   "id": "985d6d59",
   "metadata": {},
   "source": [
    "---\n",
    "\n",
    "(Optionnel) Si vous faites ce labo avant les fêtes, exécutez la cellule ci-dessous. "
   ]
  },
  {
   "cell_type": "code",
   "execution_count": null,
   "id": "2e3e575d",
   "metadata": {},
   "outputs": [],
   "source": [
    "# Code goulûment copié de: \n",
    "# https://medium.com/analytics-vidhya/how-to-draw-a-3d-christmas-tree-with-matplotlib-aabb9bc27864\n",
    "\n",
    "import math\n",
    "import matplotlib.pyplot as plt\n",
    "from mpl_toolkits.mplot3d import Axes3D\n",
    "\n",
    "fig = plt.figure(figsize=(20,20))\n",
    "ax = fig.add_subplot(111, projection=\"3d\")\n",
    "\n",
    "k=300\n",
    "Z = [i for i in range(k)]\n",
    "X = [math.cos(i/5)*(k-i) for i in range(k)]\n",
    "Y = [math.sin(i/5)*(k-i) for i in range(k)]\n",
    "ax.scatter(X,Y,Z, c=\"green\", marker=\"^\")\n",
    "k=300\n",
    "step = 4\n",
    "Z = [i for i in range(1,k,step)]\n",
    "X = [math.cos(i/5+2)*(k-i+10) for i in range(1,k,step)]\n",
    "Y = [math.sin(i/5+2)*(k-i+10) for i in range(1,k,step)]\n",
    "ax.scatter(X,Y,Z, c=\"red\", marker=\"o\")\n",
    "\n",
    "c = [(i/k,abs(0.5-i/k),i/k) for i in range(1,k,step)]\n",
    "ax.scatter(X,Y,Z, c=c, marker=\"o\",s=40)\n",
    "\n",
    "\n",
    "plt.xlim(-500,500)\n",
    "plt.ylim(-500,500)\n",
    "plt.title(\"Bonnes fêtes !\", {'fontsize': 25})\n",
    "plt.show()\n",
    "\n"
   ]
  },
  {
   "cell_type": "code",
   "execution_count": null,
   "id": "2b91e61c",
   "metadata": {},
   "outputs": [],
   "source": []
  }
 ],
 "metadata": {
  "kernelspec": {
   "display_name": "isd-2023",
   "language": "python",
   "name": "isd-2023"
  },
  "language_info": {
   "codemirror_mode": {
    "name": "ipython",
    "version": 3
   },
   "file_extension": ".py",
   "mimetype": "text/x-python",
   "name": "python",
   "nbconvert_exporter": "python",
   "pygments_lexer": "ipython3",
   "version": "3.10.10"
  }
 },
 "nbformat": 4,
 "nbformat_minor": 5
}
